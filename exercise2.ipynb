{
 "cells": [
  {
   "cell_type": "code",
   "execution_count": 3,
   "metadata": {},
   "outputs": [],
   "source": [
    "# Problem 1: Create Polygon from lists of coordinates\n",
    "import geopandas as gpd\n",
    "import matplotlib as mat\n",
    "import descartes\n",
    "from shapely.geometry import Polygon\n",
    "import fiona\n",
    "\n",
    "# X -coordinates \n",
    "xcoords = [29.99671173095703, 31.58196258544922, 27.738052368164062, 26.50013542175293, 26.652359008789062, 25.921663284301758, 22.90027618408203, 23.257217407226562,\n",
    "           23.335693359375, 22.87444305419922, 23.08465003967285, 22.565473556518555, 21.452774047851562, 21.66388702392578, 21.065969467163086, 21.67659568786621,\n",
    "           21.496871948242188, 22.339998245239258, 22.288192749023438, 24.539581298828125, 25.444232940673828, 25.303749084472656, 24.669166564941406, 24.689163208007812,\n",
    "           24.174999237060547, 23.68471908569336, 24.000761032104492, 23.57332992553711, 23.76513671875, 23.430830001831055, 23.6597900390625, 20.580928802490234, 21.320831298828125,\n",
    "           22.398330688476562, 23.97638702392578, 24.934917449951172, 25.7611083984375, 25.95930290222168, 26.476804733276367, 27.91069221496582, 29.1027774810791, 29.29846954345703,\n",
    "           28.4355525970459, 28.817358016967773, 28.459857940673828, 30.028610229492188, 29.075136184692383, 30.13492774963379, 29.818885803222656, 29.640830993652344, 30.57735824584961,\n",
    "           29.99671173095703]\n",
    "\n",
    "# Y -coordinates\n",
    "ycoords = [63.748023986816406, 62.90789794921875, 60.511383056640625, 60.44499588012695, 60.646385192871094, 60.243743896484375, 59.806800842285156, 59.91944122314453,\n",
    "           60.02395248413086, 60.14555358886719, 60.3452033996582, 60.211936950683594, 60.56249237060547, 61.54027557373047, 62.59798049926758, 63.02013397216797,\n",
    "           63.20353698730469, 63.27652359008789, 63.525691986083984, 64.79915618896484, 64.9533920288086, 65.51513671875, 65.65470886230469, 65.89610290527344, 65.79151916503906,\n",
    "           66.26332092285156, 66.80228424072266, 67.1570053100586, 67.4168701171875, 67.47978210449219, 67.94589233398438, 69.060302734375, 69.32611083984375, 68.71110534667969,\n",
    "           68.83248901367188, 68.580810546875, 68.98916625976562, 69.68568420410156, 69.9363784790039, 70.08860778808594, 69.70597076416016, 69.48533630371094, 68.90263366699219,\n",
    "           68.84700012207031, 68.53485107421875, 67.69471740722656, 66.90360260009766, 65.70887756347656, 65.6533203125, 64.92096710205078, 64.22373962402344, 63.748023986816406]\n",
    "\n",
    "# create new empty dataframe\n",
    "newdata = gpd.GeoDataFrame()\n",
    "\n",
    "# Create a new column called 'geometry' to the GeoDataFrame\n",
    "newdata['geometry']=None\n",
    "\n",
    "# add data\n",
    "coordpairs = []\n",
    "for x,y in zip(xcoords, ycoords):\n",
    "    coordpairs.append((x,y))\n",
    "    \n",
    "poly = Polygon(coordpairs)\n",
    "\n",
    "newdata.loc[0,'geometry']=poly\n",
    "# outpath\n",
    "outfp = r\"/Users/luyc/Desktop/Automated GIS python/exercise 2/data/polygon.shp\"\n",
    "newdata.to_file(outfp)"
   ]
  },
  {
   "cell_type": "code",
   "execution_count": 13,
   "metadata": {},
   "outputs": [],
   "source": [
    "# Problem 2: Points to map\n",
    "import pandas as pd\n",
    "import geopandas as gdp\n",
    "from shapely.geometry import Point,LineString\n",
    "\n",
    "# Read in data using pandas\n",
    "dF = pd.read_csv(\"/Users/luyc/Desktop/Automated GIS python/exercise 2/data/some_posts.txt\")\n",
    "\n",
    "# Iterate over dF rows and insert point objects into new column 'geometry'\n",
    "dF['geometry'] = [Point(xy) for xy in zip(dF.lon, dF.lat)]\n",
    "\n",
    "# drop uneeded columns\n",
    "dFclean = dF.drop(['lon', 'lat'], axis=1)\n",
    "\n",
    "# convert to GeoDataFrame with crs WGS84 (epsg 4326)\n",
    "crs = {'init': 'epsg:4326'}\n",
    "gdf = gpd.GeoDataFrame(dFclean, crs=crs, geometry=dF['geometry'])\n",
    "\n",
    "# save shapefile\n",
    "outshp = \"/Users/luyc/Desktop/Automated GIS python/exercise 2/data/Kruger_posts.shp\"\n",
    "gdf.to_file(outshp)\n",
    "gdf.plot()"
   ]
  },
  {
   "cell_type": "code",
   "execution_count": 14,
   "metadata": {},
   "outputs": [],
   "source": [
    "# Problem 3: How long distance individuals have travelled?\n",
    "import pandas as pd\n",
    "import geopandas as gdp\n",
    "from shapely.geometry import Point,LineString\n",
    "\n",
    "# define crs\n",
    "gdf = gdf.to_crs(epsg=32735)# group data based on userid \n",
    "grouped = gdf.groupby('userid')\n",
    "\n",
    "# Create an empty geodataframe movements\n",
    "movements = gpd.GeoDataFrame()\n",
    "\n",
    "# sort rows by timestamp (AttributeError)\n",
    "grouped.sort_values(['timestamp'])\n",
    "\n",
    "# create linestring objects based on points (ValueError)\n",
    "grouped['geometry'].apply(lambda x : LineString(list(x)))"
   ]
  },
  {
   "cell_type": "code",
   "execution_count": null,
   "metadata": {},
   "outputs": [],
   "source": []
  }
 ],
 "metadata": {
  "kernelspec": {
   "display_name": "Python 3",
   "language": "python",
   "name": "python3"
  },
  "language_info": {
   "codemirror_mode": {
    "name": "ipython",
    "version": 3
   },
   "file_extension": ".py",
   "mimetype": "text/x-python",
   "name": "python",
   "nbconvert_exporter": "python",
   "pygments_lexer": "ipython3",
   "version": "3.8.1"
  }
 },
 "nbformat": 4,
 "nbformat_minor": 2
}
