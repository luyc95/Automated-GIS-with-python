{
 "cells": [
  {
   "cell_type": "code",
   "execution_count": 1,
   "metadata": {},
   "outputs": [
    {
     "ename": "ModuleNotFoundError",
     "evalue": "No module named 'osmnx'",
     "output_type": "error",
     "traceback": [
      "\u001b[0;31m---------------------------------------------------------------------------\u001b[0m",
      "\u001b[0;31mModuleNotFoundError\u001b[0m                       Traceback (most recent call last)",
      "\u001b[0;32m<ipython-input-1-18f24781a67e>\u001b[0m in \u001b[0;36m<module>\u001b[0;34m\u001b[0m\n\u001b[0;32m----> 1\u001b[0;31m \u001b[0;32mimport\u001b[0m \u001b[0mosmnx\u001b[0m \u001b[0;32mas\u001b[0m \u001b[0mox\u001b[0m\u001b[0;34m\u001b[0m\u001b[0;34m\u001b[0m\u001b[0m\n\u001b[0m\u001b[1;32m      2\u001b[0m \u001b[0;32mimport\u001b[0m \u001b[0mmatplotlib\u001b[0m\u001b[0;34m.\u001b[0m\u001b[0mpyplot\u001b[0m \u001b[0;32mas\u001b[0m \u001b[0mplt\u001b[0m\u001b[0;34m\u001b[0m\u001b[0;34m\u001b[0m\u001b[0m\n\u001b[1;32m      3\u001b[0m \u001b[0mget_ipython\u001b[0m\u001b[0;34m(\u001b[0m\u001b[0;34m)\u001b[0m\u001b[0;34m.\u001b[0m\u001b[0mrun_line_magic\u001b[0m\u001b[0;34m(\u001b[0m\u001b[0;34m'matplotlib'\u001b[0m\u001b[0;34m,\u001b[0m \u001b[0;34m'inline'\u001b[0m\u001b[0;34m)\u001b[0m\u001b[0;34m\u001b[0m\u001b[0;34m\u001b[0m\u001b[0m\n\u001b[1;32m      4\u001b[0m \u001b[0;34m\u001b[0m\u001b[0m\n\u001b[1;32m      5\u001b[0m \u001b[0;31m# Specify the name that is used to seach for the data\u001b[0m\u001b[0;34m\u001b[0m\u001b[0;34m\u001b[0m\u001b[0;34m\u001b[0m\u001b[0m\n",
      "\u001b[0;31mModuleNotFoundError\u001b[0m: No module named 'osmnx'"
     ]
    }
   ],
   "source": [
    "import osmnx as ox\n",
    "import matplotlib.pyplot as plt\n",
    "%matplotlib inline\n",
    "\n",
    "# Specify the name that is used to seach for the data\n",
    "place_name = \"Kamppi, Helsinki, Finland\"\n",
    "\n",
    "# Fetch OSM street network from the location\n",
    "graph = ox.graph_from_place(place_name)"
   ]
  },
  {
   "cell_type": "code",
   "execution_count": null,
   "metadata": {},
   "outputs": [],
   "source": [
    "type(graph)\n",
    "\n",
    "# Plot the streets\n",
    "fig, ax = ox.plot_graph(graph)\n",
    "\n",
    "area = ox.gdf_from_place(place_name)\n",
    "\n",
    "area.plot()"
   ]
  },
  {
   "cell_type": "code",
   "execution_count": null,
   "metadata": {},
   "outputs": [],
   "source": [
    "# Building footprints\n",
    "buildings = ox.footprints_from_place(place_name)\n",
    "\n",
    "len(buildings)\n",
    "buildings.head()"
   ]
  },
  {
   "cell_type": "code",
   "execution_count": null,
   "metadata": {},
   "outputs": [],
   "source": [
    "# POI\n",
    "# Retrieve restaurants\n",
    "restaurants = ox.pois_from_place(place_name, amenities=['restaurant'])\n",
    "\n",
    "# How many restaurants do we have?\n",
    "len(restaurants)\n",
    "\n",
    "# Select some useful cols and print\n",
    "cols = ['name', 'opening_hours', 'addr:city', 'addr:country',\n",
    "        'addr:housenumber', 'addr:postcode', 'addr:street']\n",
    "# Print only selected cols\n",
    "restaurants[cols].head(10)"
   ]
  },
  {
   "cell_type": "code",
   "execution_count": null,
   "metadata": {},
   "outputs": [],
   "source": [
    "# Graph to GeoDataFrame\n",
    "# Retrieve nodes and edges\n",
    "nodes, edges = ox.graph_to_gdfs(graph)\n",
    "\n",
    "nodes.head()\n",
    "edges.head()"
   ]
  },
  {
   "cell_type": "code",
   "execution_count": null,
   "metadata": {},
   "outputs": [],
   "source": [
    "# Plot the data\n",
    "import matplotlib.pyplot as plt\n",
    "\n",
    "fig, ax = plt.subplots(figsize=(12,8))\n",
    "\n",
    "# Plot the footprint\n",
    "area.plot(ax=ax, facecolor='black')\n",
    "\n",
    "# Plot street edges\n",
    "edges.plot(ax=ax, linewidth=1, edgecolor='#BC8F8F')\n",
    "\n",
    "# Plot buildings\n",
    "buildings.plot(ax=ax, facecolor='khaki', alpha=0.7)\n",
    "\n",
    "# Plot restaurants\n",
    "restaurants.plot(ax=ax, color='green', alpha=0.7, markersize=10)\n",
    "plt.tight_layout()"
   ]
  },
  {
   "cell_type": "code",
   "execution_count": null,
   "metadata": {},
   "outputs": [],
   "source": [
    "from pyproj import CRS\n",
    "\n",
    "# Set projection\n",
    "projection = CRS.from_epsg(3067)\n",
    "\n",
    "# Re-project layers\n",
    "area = area.to_crs(projection)\n",
    "edges = edges.to_crs(projection)\n",
    "buildings = buildings.to_crs(projection)\n",
    "restaurants = restaurants.to_crs(projection)\n",
    "fig, ax = plt.subplots(figsize=(12,8))\n",
    "\n",
    "# Plot the footprint\n",
    "area.plot(ax=ax, facecolor='black')\n",
    "\n",
    "# Plot street edges\n",
    "edges.plot(ax=ax, linewidth=1, edgecolor='dimgray')\n",
    "\n",
    "# Plot buildings\n",
    "buildings.plot(ax=ax, facecolor='silver', alpha=0.7)\n",
    "\n",
    "# Plot restaurants\n",
    "restaurants.plot(ax=ax, color='yellow', alpha=0.7, markersize=10)\n",
    "plt.tight_layout()"
   ]
  },
  {
   "cell_type": "code",
   "execution_count": null,
   "metadata": {},
   "outputs": [],
   "source": [
    "leisure = ox.footprints_from_place(place_name, footprint_type=\"leisure\")\n",
    "leisure[\"leisure\"].value_counts()\n",
    "parks = leisure[leisure[\"leisure\"].isin([\"park\",\"playground\"])]\n",
    "parks.plot(color=\"green\")\n",
    "parks = parks.to_crs(projection)"
   ]
  },
  {
   "cell_type": "code",
   "execution_count": null,
   "metadata": {},
   "outputs": [],
   "source": [
    "fig, ax = plt.subplots(figsize=(12,8))\n",
    "\n",
    "# Plot the footprint\n",
    "area.plot(ax=ax, facecolor='black')\n",
    "\n",
    "# Plot the parks\n",
    "parks.plot(ax=ax, facecolor=\"green\")\n",
    "\n",
    "# Plot street edges\n",
    "edges.plot(ax=ax, linewidth=1, edgecolor='dimgray')\n",
    "\n",
    "# Plot buildings\n",
    "buildings.plot(ax=ax, facecolor='silver', alpha=0.7)\n",
    "\n",
    "# Plot restaurants\n",
    "restaurants.plot(ax=ax, color='yellow', alpha=0.7, markersize=10)\n",
    "plt.tight_layout()"
   ]
  }
 ],
 "metadata": {
  "kernelspec": {
   "display_name": "Python 3",
   "language": "python",
   "name": "python3"
  },
  "language_info": {
   "codemirror_mode": {
    "name": "ipython",
    "version": 3
   },
   "file_extension": ".py",
   "mimetype": "text/x-python",
   "name": "python",
   "nbconvert_exporter": "python",
   "pygments_lexer": "ipython3",
   "version": "3.8.3"
  }
 },
 "nbformat": 4,
 "nbformat_minor": 2
}
