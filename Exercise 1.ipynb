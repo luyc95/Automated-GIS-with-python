{
 "cells": [
  {
   "cell_type": "code",
   "execution_count": 1,
   "metadata": {},
   "outputs": [],
   "source": [
    "from shapely.geometry import Point,LineString,Polygon"
   ]
  },
  {
   "cell_type": "code",
   "execution_count": 7,
   "metadata": {},
   "outputs": [
    {
     "name": "stdout",
     "output_type": "stream",
     "text": [
      "POINT (1.1 2.2)\n"
     ]
    },
    {
     "data": {
      "text/plain": [
       "shapely.geometry.point.Point"
      ]
     },
     "execution_count": 7,
     "metadata": {},
     "output_type": "execute_result"
    }
   ],
   "source": [
    "# Task 1\n",
    "# Question 1\n",
    "# Create a function called createPointGeom() that has two parameters (x_coord, y_coord). \n",
    "# Function should create a shapely Point geometry object and return that. \n",
    "# Demonstrate the usage of the function by creating Point -objects with the function.\n",
    "def createPointGeom(x_coord, y_coord):\n",
    "    point = Point(x_coord, y_coord)\n",
    "    return point\n",
    "\n",
    "point1 = createPointGeom(1.1,2.2)\n",
    "print(point1)\n",
    "type(point1)\n"
   ]
  },
  {
   "cell_type": "code",
   "execution_count": 9,
   "metadata": {},
   "outputs": [
    {
     "name": "stdout",
     "output_type": "stream",
     "text": [
      "LINESTRING (2.2 4.2, 7.2 -25.1, 9.26 -2.456)\n"
     ]
    },
    {
     "data": {
      "text/plain": [
       "shapely.geometry.linestring.LineString"
      ]
     },
     "execution_count": 9,
     "metadata": {},
     "output_type": "execute_result"
    }
   ],
   "source": [
    "# Create a function called createLineGeom() that takes a list of Shapely Point objects as parameter and returns a LineString object of those input points. \n",
    "# Function should first check that the input list really contains Shapely Point(s). \n",
    "# Demonstrate the usage of the function by creating LineString -objects with the function.\n",
    "\n",
    "# create vector\n",
    "vertices = [Point(2.2, 4.2), Point(7.2, -25.1), Point(9.26, -2.456)]\n",
    "\n",
    "# def function\n",
    "def createLineGeom(points):\n",
    "    return LineString(points)\n",
    "\n",
    "line = createLineGeom(vertices)\n",
    "print(line)\n",
    "type(line)\n",
    "    "
   ]
  },
  {
   "cell_type": "code",
   "execution_count": 11,
   "metadata": {},
   "outputs": [
    {
     "name": "stdout",
     "output_type": "stream",
     "text": [
      "POLYGON ((2.2 4.2, 7.2 -25.1, 9.26 -2.456, 2.2 4.2))\n"
     ]
    },
    {
     "data": {
      "text/plain": [
       "shapely.geometry.polygon.Polygon"
      ]
     },
     "execution_count": 11,
     "metadata": {},
     "output_type": "execute_result"
    }
   ],
   "source": [
    "# Create a function called createPolyGeom() that takes a list of coordinate tuples OR a list of Shapely Point objects and creates/returns a Polygon object of the input data. \n",
    "# Both ways of passing the data to the function should be working.\n",
    "# Demonstrate the usage of the function by passing data first with coordinate-tuples and then with Point -objects.\n",
    "\n",
    "def createPolyGeom(points):\n",
    "    return Polygon(points)\n",
    "\n",
    "polygon = createPolyGeom(vertices)\n",
    "print(polygon)\n",
    "type(polygon)"
   ]
  },
  {
   "cell_type": "code",
   "execution_count": 12,
   "metadata": {},
   "outputs": [
    {
     "name": "stdout",
     "output_type": "stream",
     "text": [
      "86.789\n"
     ]
    }
   ],
   "source": [
    "# Problem 2: Attributes of geometries\n",
    "# Create a function called getCentroid() that takes any kind of Shapely's geometric -object as input and returns a centroid of that geometry. \n",
    "# Demonstrate the usage of the function.\n",
    "\n",
    "vertices = [Point(2.2, 4.2), Point(7.2, -25.1), Point(9.26, -2.456)]\n",
    "\n",
    "def getCentroid(geometry):\n",
    "    return print(geometry.centroid)\n",
    "\n",
    "# Create a function called getArea() that takes a Shapely's Polygon -object as input and returns the area of that geometry. \n",
    "# Demonstrate the usage of the function.\n",
    "\n",
    "def getArea(polygon):\n",
    "    return print(polygon.area)\n",
    "\n",
    "getArea(polygon)\n",
    "\n",
    "# Create a function called getLength() takes either a Shapely's LineString or Polygon -object as input. \n",
    "# Function should check the type of the input and returns the length of the line if input is LineString and length of the exterior ring if input is Polygon. \n",
    "# If something else is passed to the function, it should tell the user --> \"Error: LineString or Polygon geometries required!\". Demonstrate the usage of the function.\n",
    "\n",
    "def getLength(geometry):\n",
    "    if isinstance(geometry,LineString):\n",
    "        return print(LineString.length)\n",
    "    elif isinstance(geometry,Polygon):\n",
    "        return print(Polygon.length)\n",
    "    else return 'Error: LineString or Polygon geometries required!'"
   ]
  },
  {
   "cell_type": "code",
   "execution_count": 15,
   "metadata": {},
   "outputs": [],
   "source": [
    "# Question 3 Reading coordinates from a file and creating a geometries\n",
    "import pandas as pd\n",
    "from shapely.geometry import Point, LineString\n",
    "\n",
    "dF = pd.read_csv('/Users/luyc/Desktop/Automated GIS python/exercise 1/data/travelTimes_2015_Helsinki.txt', sep=';', usecols=['from_x', 'from_y', 'to_x', 'to_y'])\n",
    "\n",
    "# create origin point and destination point lists\n",
    "origPoints = []\n",
    "destPoints = []\n",
    "\n",
    "# Iterate over the rows of your DataFrame and add Shapely Point -objects into the orig_points -list and dest_point -list representing the origin locations and destination locations accordingly.\n",
    "for index,row in dF.iterrows():\n",
    "    origPoints.append(Point(row['from_x'],row['from_y']))\n",
    "    destPoints.append(Point(row['to_x'],row['to_y']))"
   ]
  },
  {
   "cell_type": "code",
   "execution_count": null,
   "metadata": {},
   "outputs": [],
   "source": [
    "# Question 4 Creating LineStrings that represent the movements \n",
    "# Create a list called lines\n",
    "lines = MultiLineString[]\n",
    "\n",
    "# Iterate over the origin and destination lists and create a Shapely LineString -object between the origin and destination point\n",
    "for index,row in dF.iterrows():\n",
    "    line = LineString(origPoints,destPoints)\n",
    "    lines = lines.append(line)\n",
    "    length = lines.length()\n",
    "# Find out what is the average (Euclidian) distance of all the origin-destination LineStrings that we just created, and print it out.\n",
    "average = length/row"
   ]
  }
 ],
 "metadata": {
  "kernelspec": {
   "display_name": "Python 3",
   "language": "python",
   "name": "python3"
  },
  "language_info": {
   "codemirror_mode": {
    "name": "ipython",
    "version": 3
   },
   "file_extension": ".py",
   "mimetype": "text/x-python",
   "name": "python",
   "nbconvert_exporter": "python",
   "pygments_lexer": "ipython3",
   "version": "3.8.1"
  }
 },
 "nbformat": 4,
 "nbformat_minor": 2
}
