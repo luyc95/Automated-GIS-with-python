{
 "cells": [
  {
   "cell_type": "code",
   "execution_count": 23,
   "metadata": {},
   "outputs": [
    {
     "name": "stdout",
     "output_type": "stream",
     "text": [
      "7\n",
      "     id       name                                            addr\n",
      "0  1000       Itis            Itäkatu 1-7, 00930 Helsinki, Finland\n",
      "1  1001      Forum  Mannerheimintie 14-20, 00100 Helsinki, Finland\n",
      "2  1002  Iso-omena           Piispansilta 11, 02230 Espoo, Finland\n",
      "3  1003      Sello       Leppävaarankatu 3-9, 02600 Espoo, Finland\n",
      "4  1004      Jumbo      Vantaanportinkatu 3, 01510 Vantaa, Finland\n"
     ]
    }
   ],
   "source": [
    "# Problem 1: Geocode shopping centers\n",
    "# Import the geocoding tool\n",
    "import pandas as pd\n",
    "\n",
    "\n",
    "# file path\n",
    "fp = \"/Users/luyc/Desktop/Automated GIS python/exercise 3/shopping_center.txt\"\n",
    "\n",
    "# read data\n",
    "data = pd.read_csv(fp,sep=';')\n",
    "print(len(data))\n",
    "print(data.head())\n"
   ]
  },
  {
   "cell_type": "code",
   "execution_count": 25,
   "metadata": {},
   "outputs": [
    {
     "name": "stdout",
     "output_type": "stream",
     "text": [
      "                           geometry  \\\n",
      "0  POINT (25504598.602 6677662.109)   \n",
      "1  POINT (25496573.542 6672878.360)   \n",
      "2  POINT (25485510.634 6672029.255)   \n",
      "3  POINT (25489571.409 6678401.654)   \n",
      "4  POINT (25497943.932 6686656.982)   \n",
      "\n",
      "                                             address  \n",
      "0  Kauppakeskus Itis, Itäkatu, Itäkeskus, Vartiok...  \n",
      "1  Salaattiasema, Mannerheimintie, Keskusta, Kluu...  \n",
      "2  11, Piispansilta, Nuottaniemi, Piispansilta, E...  \n",
      "3  3-9, Leppävaarankatu, Etelä-Leppävaara, Leppäv...  \n",
      "4  Stockmann, Vantaanportinkatu, Pakkala, Aviapol...  \n"
     ]
    }
   ],
   "source": [
    "from geopandas.tools import geocode\n",
    "\n",
    "# Geocode addresses using Nominatim.\n",
    "geo = geocode(data['addr'], provider='nominatim', user_agent='luyc', timeout=4)\n",
    "\n",
    "# Change projection system\n",
    "geo = geo.to_crs(\"EPSG:3879\")\n",
    "print(geo.head())\n",
    "\n",
    "# table join\n",
    "join = geo.join(data)\n",
    "\n",
    "# output path\n",
    "outfp = \"/Users/luyc/Desktop/Automated GIS python/exercise 3/shopping_center.shp\"\n",
    "join.to_file(outfp)"
   ]
  },
  {
   "cell_type": "code",
   "execution_count": 31,
   "metadata": {},
   "outputs": [
    {
     "name": "stdout",
     "output_type": "stream",
     "text": [
      "                                            geometry  \\\n",
      "0  POLYGON ((25512091.374 6677956.515, 25512092.1...   \n",
      "1  POLYGON ((25504066.315 6673172.766, 25504067.1...   \n",
      "2  POLYGON ((25493003.406 6672323.661, 25493004.1...   \n",
      "3  POLYGON ((25497064.182 6678696.060, 25497064.9...   \n",
      "4  POLYGON ((25505436.705 6686951.388, 25505437.4...   \n",
      "\n",
      "                                             address    id       name  \\\n",
      "0  Kauppakeskus Itis, Itäkatu, Itäkeskus, Vartiok...  1000       Itis   \n",
      "1  Salaattiasema, Mannerheimintie, Keskusta, Kluu...  1001      Forum   \n",
      "2  11, Piispansilta, Nuottaniemi, Piispansilta, E...  1002  Iso-omena   \n",
      "3  3-9, Leppävaarankatu, Etelä-Leppävaara, Leppäv...  1003      Sello   \n",
      "4  Stockmann, Vantaanportinkatu, Pakkala, Aviapol...  1004      Jumbo   \n",
      "\n",
      "                                             addr  \\\n",
      "0            Itäkatu 1-7, 00930 Helsinki, Finland   \n",
      "1  Mannerheimintie 14-20, 00100 Helsinki, Finland   \n",
      "2           Piispansilta 11, 02230 Espoo, Finland   \n",
      "3       Leppävaarankatu 3-9, 02600 Espoo, Finland   \n",
      "4      Vantaanportinkatu 3, 01510 Vantaa, Finland   \n",
      "\n",
      "                                              buffer  \n",
      "0  POLYGON ((25513589.568 6678030.116, 25513589.9...  \n",
      "1  POLYGON ((25505564.508 6673246.368, 25505564.9...  \n",
      "2  POLYGON ((25494501.600 6672397.263, 25494502.0...  \n",
      "3  POLYGON ((25498562.375 6678769.661, 25498562.7...  \n",
      "4  POLYGON ((25506934.898 6687024.989, 25506935.3...  \n",
      "<class 'shapely.geometry.polygon.Polygon'>\n",
      "0    254.0\n",
      "1    254.0\n",
      "2    254.0\n",
      "3    254.0\n",
      "4    254.0\n",
      "5    254.0\n",
      "6    254.0\n",
      "dtype: float64\n",
      "     id       name                                           geometry\n",
      "0  1000       Itis  POLYGON ((25513589.568 6678030.116, 25513589.9...\n",
      "1  1001      Forum  POLYGON ((25505564.508 6673246.368, 25505564.9...\n",
      "2  1002  Iso-omena  POLYGON ((25494501.600 6672397.263, 25494502.0...\n",
      "3  1003      Sello  POLYGON ((25498562.375 6678769.661, 25498562.7...\n",
      "4  1004      Jumbo  POLYGON ((25506934.898 6687024.989, 25506935.3...\n"
     ]
    }
   ],
   "source": [
    "# Question 2: Create buffers around shopping centers\n",
    "from shapely.geometry import Point,Polygon\n",
    "import geopandas as gpd\n",
    "\n",
    "# create buffer\n",
    "join['buffer'] = join['geometry'].buffer(1500)\n",
    "print(join.head())\n",
    "print(type(join.at[0,'buffer']))\n",
    "\n",
    "# Check the areas of your buffers in km^2\n",
    "print(round(gpd.GeoSeries(join[\"buffer\"]).area / 1000000))\n",
    "\n",
    "# Replace the values in geometry column with the values of buffer column\n",
    "join['geometry'] = join['buffer']\n",
    "\n",
    "# drop out unnecessary columns from the geodataframe\n",
    "buffer = join[['id','name','geometry']]\n",
    "print(buffer.head())"
   ]
  },
  {
   "cell_type": "code",
   "execution_count": null,
   "metadata": {},
   "outputs": [],
   "source": [
    "# Problem 3: How many people live near shopping centers?\n"
   ]
  }
 ],
 "metadata": {
  "kernelspec": {
   "display_name": "Python 3",
   "language": "python",
   "name": "python3"
  },
  "language_info": {
   "codemirror_mode": {
    "name": "ipython",
    "version": 3
   },
   "file_extension": ".py",
   "mimetype": "text/x-python",
   "name": "python",
   "nbconvert_exporter": "python",
   "pygments_lexer": "ipython3",
   "version": "3.8.1"
  }
 },
 "nbformat": 4,
 "nbformat_minor": 2
}
